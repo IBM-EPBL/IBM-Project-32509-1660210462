{
  "nbformat": 4,
  "nbformat_minor": 0,
  "metadata": {
    "colab": {
      "provenance": []
    },
    "kernelspec": {
      "name": "python3",
      "display_name": "Python 3"
    },
    "language_info": {
      "name": "python"
    }
  },
  "cells": [
    {
      "cell_type": "code",
      "execution_count": 1,
      "metadata": {
        "id": "Dd_G_xTfSJAP"
      },
      "outputs": [],
      "source": [
        "import keras\n"
      ]
    },
    {
      "cell_type": "code",
      "source": [
        "from keras.preprocessing.image import ImageDataGenerator"
      ],
      "metadata": {
        "id": "zssJhz99SmyB"
      },
      "execution_count": 2,
      "outputs": []
    },
    {
      "cell_type": "code",
      "source": [
        "from google.colab import drive\n",
        "drive.mount('/content/drive')"
      ],
      "metadata": {
        "colab": {
          "base_uri": "https://localhost:8080/"
        },
        "id": "w4I3hcC0SrNT",
        "outputId": "683d7ba7-5b88-4ffd-a754-e3647c46b4f1"
      },
      "execution_count": 3,
      "outputs": [
        {
          "output_type": "stream",
          "name": "stdout",
          "text": [
            "Mounted at /content/drive\n"
          ]
        }
      ]
    },
    {
      "cell_type": "code",
      "source": [
        "cd/content/drive/MyDrive"
      ],
      "metadata": {
        "colab": {
          "base_uri": "https://localhost:8080/"
        },
        "id": "GnTzXHB_pAtQ",
        "outputId": "cb3a3086-bdb7-4649-e729-7ef342db6aaf"
      },
      "execution_count": 4,
      "outputs": [
        {
          "output_type": "stream",
          "name": "stdout",
          "text": [
            "/content/drive/MyDrive\n"
          ]
        }
      ]
    },
    {
      "cell_type": "code",
      "source": [
        "!unzip 'dataset.zip'"
      ],
      "metadata": {
        "colab": {
          "base_uri": "https://localhost:8080/"
        },
        "id": "DQdyR81qpfYu",
        "outputId": "a23ee68c-35c4-4436-c560-114ece29d37b"
      },
      "execution_count": 7,
      "outputs": [
        {
          "output_type": "stream",
          "name": "stdout",
          "text": [
            "Archive:  dataset.zip\n",
            "  inflating: Data set/Train set/forest without fire/f90_fire_1168x657.jpg  \n",
            "  inflating: Data set/Train set/forest without fire/91sALlLjdLL.jpg  \n",
            "  inflating: Data set/Train set/forest without fire/220px_The_forest_near_Blatets__Vinitsa.jfif  \n",
            "  inflating: Data set/Train set/forest without fire/1_chimp.jpg  \n",
            "  inflating: Data set/Train set/forest without fire/91ErlodmE5L.jpg  \n",
            "  inflating: Data set/Train set/forest without fire/0.48007200_1530881924_final_forest.jpg  \n",
            "  inflating: Data set/Train set/forest without fire/2017_10_12_09_01_56.jpg  \n",
            "  inflating: Data set/Train set/forest without fire/Fallen_e1499694482182.jpg  \n",
            "  inflating: Data set/Train set/forest without fire/0.72918000_1559733279_forests1_gettyimages_.jpg  \n",
            "  inflating: Data set/Train set/forest without fire/fanas_gregorschmucki_2016_28_1_2600x1733.jpg  \n",
            "  inflating: Data set/Train set/forest without fire/Fall_Trees_Alaskan_Adventure_by_John_Simeone.jpg  \n",
            "  inflating: Data set/Train set/forest without fire/Dupont_Forest_Triple_Falls_Rob_Travis_2_1.jpg  \n",
            "  inflating: Data set/Train set/forest without fire/0.98884800_1554454572_spin.jpg  \n",
            "  inflating: Data set/Train set/forest without fire/200px_View_of_Lake_Moraine.jpg  \n",
            "  inflating: Data set/Train set/forest without fire/0.64133000_1519374442_forest_deep.jpg  \n",
            "  inflating: Data set/Train set/forest without fire/5325.jpg  \n",
            "  inflating: Data set/Train set/forest without fire/7ece9530_9cf1_11e9_bf3c_4fe6e6438142.jpg  \n",
            "  inflating: Data set/Train set/forest without fire/_101542074_gettyimages_956391468.jpg  \n",
            "  inflating: Data set/Train set/forest without fire/01_NeilBurnell_Mystical_photoverticall.jpg  \n",
            "  inflating: Data set/Train set/forest without fire/DSCN8209(1)_250x333.jfif  \n",
            "  inflating: Data set/Train set/forest without fire/4fe3f4e45d6bb93070989b8bbb77d30e.jpg  \n",
            "  inflating: Data set/Train set/forest without fire/2E215059_55C7_417B_8DDD693AA6E416B4_source.jpg  \n",
            "  inflating: Data set/Train set/forest without fire/1200px_Mountainarea.jpg  \n",
            "  inflating: Data set/Train set/forest without fire/em_tiger_mountain_570x284_nc.jpg  \n",
            "  inflating: Data set/Train set/forest without fire/europeslostf.jpg  \n",
            "  inflating: Data set/Train set/forest without fire/1170x500_Ireland_web.jpg  \n",
            "  inflating: Data set/Test set/forest without fire/_101542074_gettyimages_956391468.jpg  \n",
            "  inflating: Data set/Test set/forest without fire/aokigaharaforest_1_star.jpg  \n",
            "  inflating: Data set/Train set/forest without fire/5472.jpg  \n",
            "  inflating: Data set/Train set/forest without fire/78closer_exterior_view_of_northern_Rocky_Mountain_forest.jpg  \n",
            "  inflating: Data set/Test set/forest without fire/91sALlLjdLL.jpg  \n",
            "  inflating: Data set/Test set/forest without fire/5325.jpg  \n",
            "  inflating: Data set/Train set/forest without fire/fantastic_dark_landscape_of_mountain_forest_in_clouds_fog_or_mist_picture_id688948674.jpg  \n",
            "  inflating: Data set/Test set/forest without fire/91ErlodmE5L.jpg  \n",
            "  inflating: Data set/Test set/forest without fire/852554.jpg  \n",
            "  inflating: Data set/Test set/forest without fire/7ece9530_9cf1_11e9_bf3c_4fe6e6438142.jpg  \n",
            "  inflating: Data set/Train set/forest without fire/7_18_MedicineBowHikingFishing_KL_1319_4003.jpg  \n",
            "  inflating: Data set/Test set/forest without fire/altai_regio_pine_forest_1550x804.jpg  \n",
            "  inflating: Data set/Test set/forest without fire/appalachian_mtns_forest_usda_srs.jpg  \n",
            "  inflating: Data set/Test set/forest without fire/4632581118_dcfb9ed978_b.jpg.860x0_q70_crop_scale.jpg  \n",
            "  inflating: Data set/Test set/Forest with fire/shutterstock_48032821.jpg  \n",
            "  inflating: Data set/Test set/forest without fire/a.jpg  \n",
            "  inflating: Data set/Test set/forest without fire/559672101517195076987621071193712n.jpg  \n",
            "  inflating: Data set/Test set/forest without fire/Almaty_Mountains.jpg  \n",
            "  inflating: Data set/Test set/forest without fire/acadia_np_622419_High_Res.jpg  \n",
            "  inflating: Data set/Train set/forest without fire/4k_timelapse_heavy_rain_on_mountain_forest_tree_fog_motion_bad_weather_condition_rfift1zh_thumbnail_.png  \n",
            "  inflating: Data set/Test set/forest without fire/79806645_landscape_of_tall_grass_field_green_mountain_forest.jpg  \n",
            "  inflating: Data set/Test set/forest without fire/4fe3f4e45d6bb93070989b8bbb77d30e.jpg  \n",
            "  inflating: Data set/Test set/forest without fire/2E215059_55C7_417B_8DDD693AA6E416B4_source.jpg  \n",
            "  inflating: Data set/Test set/forest without fire/A003_C014_0724EC.0000000.jpg  \n",
            "  inflating: Data set/Test set/forest without fire/220px_The_forest_near_Blatets__Vinitsa.jfif  \n",
            "  inflating: Data set/Test set/forest without fire/78closer_exterior_view_of_northern_Rocky_Mountain_forest.jpg  \n",
            "  inflating: Data set/Test set/Forest with fire/uttarakhand_forest_fire_750x500.jpg  \n",
            "  inflating: Data set/Test set/forest without fire/200px_View_of_Lake_Moraine.jpg  \n",
            "  inflating: Data set/Test set/Forest with fire/rsz_1fire_pix_accumulation_640_1_2.jpg  \n",
            "  inflating: Data set/Test set/Forest with fire/shutterstock_710588224.jpg  \n",
            "  inflating: Data set/Test set/Forest with fire/ring_of_fire_bailey_colorado_rocky_mountain_forest_wildfire_picture_id157384116.jpg  \n",
            "  inflating: Data set/Test set/Forest with fire/skynews_ashdown_forest_fire_4653702.jpg  \n",
            "  inflating: Data set/Test set/forest without fire/Adirondack_Habitats_Mixed_Forest_Jenkins_Mountain_Trail_Paul_Smiths_VIC_12_August_2013_71.jpg  \n",
            "  inflating: Data set/Test set/forest without fire/Adirondack_Habitats_Mixed_Forest_Barnum_Brook_Trail_Paul_Smiths_VIC_23_May_2012_61.jpg  \n",
            "  inflating: Data set/Test set/forest without fire/16475617_web1_ForestHealth_VIB_190418_2.jpg  \n",
            "  inflating: Data set/Test set/forest without fire/7_18_MedicineBowHikingFishing_KL_1319_4003.jpg  \n",
            "  inflating: Data set/Test set/forest without fire/1_chimp.jpg  \n",
            "  inflating: Data set/Test set/Forest with fire/in_forestfire1_(1).jpg  \n",
            "  inflating: Data set/Test set/forest without fire/381417.jpg  \n",
            "  inflating: Data set/Test set/Forest with fire/in_forestfiress.jpg  \n",
            "  inflating: Data set/Test set/Forest with fire/horseshoe_bay_fire.jpg  \n",
            "  inflating: Data set/Test set/forest without fire/1551903255_2942.jpg  \n",
            "  inflating: Data set/Test set/forest without fire/31105585103_4c32392ac1_k.jpg  \n",
            "  inflating: Data set/Test set/Forest with fire/photo_1555842027_660d9d8df55b.jpg  \n",
            "  inflating: Data set/Test set/Forest with fire/in_forestfires_shutter.jpg  \n",
            "  inflating: Data set/Test set/forest without fire/23769_pcbkrdossw_1500310327.jpg  \n",
            "  inflating: Data set/Test set/forest without fire/5472.jpg  \n",
            "  inflating: Data set/Test set/Forest with fire/maxresdefault.jpg  \n",
            "  inflating: Data set/Test set/Forest with fire/korea_forest_fire_4.jpg  \n",
            "  inflating: Data set/Test set/forest without fire/1170x500_Ireland_web.jpg  \n",
            "  inflating: Data set/Test set/Forest with fire/forest_fire_2268729_1280.jpg  \n",
            "  inflating: Data set/Test set/Forest with fire/forestfire_kApH__621x414_LiveMint.jpg  \n",
            "  inflating: Data set/Test set/forest without fire/amazing_green_trees_in_dense_mountain_forest_nature_landscape_in_4k_aerial_view_b7oqfwutg_thumbnail_.png  \n",
            "  inflating: Data set/Test set/forest without fire/2017_10_12_09_01_56.jpg  \n",
            "  inflating: Data set/Test set/forest without fire/1551622076_img_5241.jpg  \n",
            "  inflating: Data set/Test set/Forest with fire/forest_fire_0.jpg  \n",
            "  inflating: Data set/Test set/forest without fire/091318_LH_forest_loss_main_FREE.jpg  \n",
            "  inflating: Data set/Test set/Forest with fire/header_hypermaritime_fire.jpg  \n",
            "  inflating: Data set/Test set/forest without fire/0.48007200_1530881924_final_forest.jpg  \n",
            "  inflating: Data set/Test set/Forest with fire/image.jpg  \n",
            "  inflating: Data set/Test set/Forest with fire/file_20190308_155532_1nvts27.jpg  \n",
            "  inflating: Data set/Test set/forest without fire/0.98884800_1554454572_spin.jpg  \n",
            "  inflating: Data set/Test set/forest without fire/4k_timelapse_heavy_rain_on_mountain_forest_tree_fog_motion_bad_weather_condition_rfift1zh_thumbnail_.png  \n",
            "  inflating: Data set/Test set/forest without fire/1200px_Mountainarea.jpg  \n",
            "  inflating: Data set/Test set/forest without fire/18435324436_6a20e7fc70_k.jpg  \n",
            "  inflating: Data set/Test set/Forest with fire/growing_risk_future_wildfires_adobestock_199370851.jpeg  \n",
            "  inflating: Data set/Test set/Forest with fire/How_to_Protect_Your_Home_From_Forest_Fire_1024x588.jpg  \n",
            "  inflating: Data set/Test set/Forest with fire/RED7_May29_1986.jpg  \n",
            "  inflating: Data set/Test set/forest without fire/0.64133000_1519374442_forest_deep.jpg  \n",
            "  inflating: Data set/Test set/Forest with fire/forest_fire_at_bandipur_tiger_reserve_04f0dd5e_3919_11e9_9798_f85edb62de22.jpg  \n",
            "  inflating: Data set/Test set/Forest with fire/Wild_fires.jpg  \n",
            "  inflating: Data set/Test set/Forest with fire/Fire_2_696x392.jpg  \n",
            "  inflating: Data set/Test set/Forest with fire/Washington_DNR_Chiwaukum_WildFires_2014_2015_WA_DNR_cropped.jpg  \n",
            "  inflating: Data set/Test set/Forest with fire/Forest_fire_MNRF_esize_IMG_6743.jpg  \n",
            "  inflating: Data set/Test set/forest without fire/0.72918000_1559733279_forests1_gettyimages_.jpg  \n",
            "  inflating: Data set/Test set/forest without fire/1506697583544.jpg  \n",
            "  inflating: Data set/Test set/Forest with fire/Untitled_design_161_866x487.jpg  \n",
            "  inflating: Data set/Test set/forest without fire/111188170_river_in_the_mountain_forest.jpg  \n",
            "  inflating: Data set/Test set/Forest with fire/louisiana_forest_fire.jpg  \n",
            "  inflating: Data set/Test set/Forest with fire/Forest_Fire (1).jpg  \n",
            "  inflating: Data set/Test set/Forest with fire/The_Rim_Fire_in_the_Stanislaus_National_Forest_near_in_California_began_on_Aug._17__2013_0004.jpg  \n",
            "  inflating: Data set/Test set/forest without fire/01_NeilBurnell_Mystical_photoverticall.jpg  \n",
            "  inflating: Data set/Test set/Forest with fire/GettyImages_862092472_1160x773.jpg  \n",
            "  inflating: Data set/Test set/Forest with fire/GettyImages_482867948.0.jpg  \n",
            "  inflating: Data set/Test set/Forest with fire/Uttarakhand_forest_fire.jpeg  \n",
            "  inflating: Data set/Test set/forest without fire/1009821.jpg  \n",
            "  inflating: Data set/Test set/Forest with fire/FORESTFIRE.jpg  \n",
            "  inflating: Data set/Test set/Forest with fire/fire image.jpg  \n",
            "  inflating: Data set/Test set/Forest with fire/19464620_401.jpg  \n",
            "  inflating: Data set/Test set/forest without fire/146019.jpg  \n",
            "  inflating: Data set/Test set/Forest with fire/Forest_Fire.jpg  \n",
            "  inflating: Data set/Test set/Forest with fire/Bandipur_fires_2019.jpg  \n",
            "  inflating: Data set/Test set/Forest with fire/599857.jpg  \n",
            "  inflating: Data set/Test set/Forest with fire/Unconfirmed 3660.crdownload.zip  \n",
            "  inflating: Data set/Train set/forest with fire/with fire (124).jpg  \n",
            "  inflating: Data set/Train set/forest with fire/with fire (116).jpg  \n",
            "  inflating: Data set/Train set/forest with fire/with fire (104).jpg  \n",
            "  inflating: Data set/Train set/forest with fire/with fire (122).jpg  \n",
            "  inflating: Data set/Train set/forest with fire/with fire (95).jpg  \n",
            "  inflating: Data set/Train set/forest with fire/with fire (103).jpg  \n",
            "  inflating: Data set/Train set/forest with fire/with fire (123).jpg  \n",
            "  inflating: Data set/Train set/forest with fire/with fire (108).jpg  \n",
            "  inflating: Data set/Train set/forest with fire/with fire (120).jpg  \n",
            "  inflating: Data set/Train set/forest with fire/with fire (119).jpg  \n",
            "  inflating: Data set/Train set/forest with fire/with fire (101).jpg  \n",
            "  inflating: Data set/Train set/forest with fire/with fire (98).jpg  \n",
            "  inflating: Data set/Train set/forest with fire/with fire (111).jpg  \n",
            "  inflating: Data set/Train set/forest with fire/with fire (100).jpg  \n",
            "  inflating: Data set/Train set/forest with fire/with fire (102).jpg  \n",
            "  inflating: Data set/Train set/forest with fire/with fire (106).jpg  \n",
            "  inflating: Data set/Train set/forest with fire/with fire (121).jpg  \n",
            "  inflating: Data set/Train set/forest with fire/with fire (117).jpg  \n",
            "  inflating: Data set/Train set/forest with fire/with fire (118).jpg  \n",
            "  inflating: Data set/Train set/forest with fire/with fire (96).jpg  \n",
            "  inflating: Data set/Train set/forest with fire/with fire (112).jpg  \n",
            "  inflating: Data set/Train set/forest with fire/with fire (97).jpg  \n",
            "  inflating: Data set/Train set/forest with fire/with fire (90).jpg  \n",
            "  inflating: Data set/Train set/forest with fire/with fire (105).jpg  \n",
            "  inflating: Data set/Train set/forest with fire/with fire (86).jpg  \n",
            "  inflating: Data set/Train set/forest with fire/with fire (113).jpg  \n",
            "  inflating: Data set/Train set/forest with fire/with fire (109).jpg  \n",
            "  inflating: Data set/Train set/forest with fire/with fire (110).jpg  \n",
            "  inflating: Data set/Train set/forest with fire/with fire (84).jpg  \n",
            "  inflating: Data set/Train set/forest with fire/with fire (94).jpg  \n",
            "  inflating: Data set/Train set/forest with fire/with fire (115).jpg  \n",
            "  inflating: Data set/Train set/forest with fire/with fire (89).jpg  \n",
            "  inflating: Data set/Train set/forest with fire/with fire (93).jpg  \n",
            "  inflating: Data set/Train set/forest with fire/with fire (81).jpg  \n",
            "  inflating: Data set/Train set/forest with fire/with fire (76).png  \n",
            "  inflating: Data set/Train set/forest with fire/with fire (73).jpg  \n",
            "  inflating: Data set/Train set/forest with fire/with fire (77).jpg  \n",
            "  inflating: Data set/Train set/forest with fire/with fire (74).jpg  \n",
            "  inflating: Data set/Train set/forest with fire/with fire (92).jpg  \n",
            "  inflating: Data set/Train set/forest with fire/with fire (65).jpeg  \n",
            "  inflating: Data set/Train set/forest with fire/with fire (107).jpg  \n",
            "  inflating: Data set/Train set/forest with fire/with fire (75).jpg  \n",
            "  inflating: Data set/Train set/forest with fire/with fire (88).jpg  \n",
            "  inflating: Data set/Train set/forest with fire/with fire (99).jpg  \n",
            "  inflating: Data set/Train set/forest with fire/with fire (66).jpg  \n",
            "  inflating: Data set/Train set/forest with fire/with fire (79).jpg  \n",
            "  inflating: Data set/Train set/forest with fire/with fire (64).jpg  \n",
            "  inflating: Data set/Train set/forest with fire/with fire (91).jpg  \n",
            "  inflating: Data set/Train set/forest with fire/with fire (80).jpg  \n",
            "  inflating: Data set/Train set/forest with fire/with fire (60).jpg  \n",
            "  inflating: Data set/Train set/forest with fire/with fire (78).jpg  \n",
            "  inflating: Data set/Train set/forest with fire/with fire (70).jpg  \n",
            "  inflating: Data set/Train set/forest with fire/with fire (63).jpg  \n",
            "  inflating: Data set/Train set/forest with fire/with fire (85).jpg  \n",
            "  inflating: Data set/Train set/forest with fire/with fire (68).jpg  \n",
            "  inflating: Data set/Train set/forest with fire/with fire (53).jpg  \n",
            "  inflating: Data set/Train set/forest with fire/with fire (52).jpg  \n",
            "  inflating: Data set/Train set/forest with fire/with fire (44).jpg  \n",
            "  inflating: Data set/Train set/forest with fire/with fire (58).jpg  \n",
            "  inflating: Data set/Train set/forest with fire/with fire (71).jpg  \n",
            "  inflating: Data set/Train set/forest with fire/with fire (83).jpg  \n",
            "  inflating: Data set/Train set/forest with fire/with fire (59).jpg  \n",
            "  inflating: Data set/Train set/forest with fire/with fire (69).jpg  \n",
            "  inflating: Data set/Train set/forest with fire/with fire (56).jpg  \n",
            "  inflating: Data set/Train set/forest with fire/with fire (49).jpg  \n",
            "  inflating: Data set/Train set/forest with fire/with fire (55).jpeg  \n",
            "  inflating: Data set/Train set/forest with fire/with fire (87).jpg  \n",
            "  inflating: Data set/Train set/forest with fire/with fire (67).png  \n",
            "  inflating: Data set/Train set/forest with fire/with fire (61).jpg  \n",
            "  inflating: Data set/Train set/forest with fire/with fire (57).png  \n",
            "  inflating: Data set/Train set/forest with fire/with fire (82).jpg  \n",
            "  inflating: Data set/Train set/forest with fire/with fire (114).jpg  \n",
            "  inflating: Data set/Train set/forest with fire/with fire (43).jpg  \n",
            "  inflating: Data set/Train set/forest with fire/with fire (32).jpg  \n",
            "  inflating: Data set/Train set/forest with fire/with fire (72).jpg  \n",
            "  inflating: Data set/Train set/forest with fire/with fire (45).jpg  \n",
            "  inflating: Data set/Train set/forest with fire/with fire (46).jpg  \n",
            "  inflating: Data set/Train set/forest with fire/with fire (33).jpg  \n",
            "  inflating: Data set/Train set/forest with fire/with fire (37).jpg  \n",
            "  inflating: Data set/Train set/forest with fire/with fire (47).jpg  \n",
            "  inflating: Data set/Train set/forest with fire/with fire (51).jpg  \n",
            "  inflating: Data set/Train set/forest with fire/with fire (30).jpg  \n",
            "  inflating: Data set/Train set/forest with fire/with fire (125).jpeg  \n",
            "  inflating: Data set/Train set/forest with fire/with fire (54).jpg  \n",
            "  inflating: Data set/Train set/forest with fire/with fire (31).jpg  \n",
            "  inflating: Data set/Train set/forest with fire/with fire (36).jpg  \n",
            "  inflating: Data set/Train set/forest with fire/with fire (24).jpg  \n",
            "  inflating: Data set/Train set/forest with fire/with fire (41).jpg  \n",
            "  inflating: Data set/Train set/forest with fire/with fire (42).jpg  \n",
            "  inflating: Data set/Train set/forest with fire/with fire (50).jpg  \n",
            "  inflating: Data set/Train set/forest with fire/with fire (22).jpg  \n",
            "  inflating: Data set/Train set/forest with fire/with fire (19).jpg  \n",
            "  inflating: Data set/Train set/forest with fire/with fire (17).jpg  \n",
            "  inflating: Data set/Train set/forest with fire/with fire (38).jpg  \n",
            "  inflating: Data set/Train set/forest with fire/with fire (28).jpg  \n",
            "  inflating: Data set/Train set/forest with fire/with fire (48).jpg  \n",
            "  inflating: Data set/Train set/forest with fire/with fire (39).jpg  \n",
            "  inflating: Data set/Train set/forest with fire/with fire (40).jpg  \n",
            "  inflating: Data set/Train set/forest with fire/with fire (16).jpg  \n",
            "  inflating: Data set/Train set/forest with fire/with fire (25).jpg  \n",
            "  inflating: Data set/Train set/forest with fire/with fire (62).jpg  \n",
            "  inflating: Data set/Train set/forest with fire/with fire (13).jpg  \n",
            "  inflating: Data set/Train set/forest with fire/with fire (26).jpg  \n",
            "  inflating: Data set/Train set/forest with fire/with fire (21).jpg  \n",
            "  inflating: Data set/Train set/forest with fire/with fire (34).jpg  \n",
            "  inflating: Data set/Train set/forest with fire/with fire (15).jpg  \n",
            "  inflating: Data set/Train set/forest with fire/with fire (20).jpg  \n",
            "  inflating: Data set/Train set/forest with fire/with fire (7).jpg  \n",
            "  inflating: Data set/Train set/forest with fire/with fire (11).jpg  \n",
            "  inflating: Data set/Train set/forest with fire/with fire (5).jpg  \n",
            "  inflating: Data set/Train set/forest with fire/with fire (27).jpg  \n",
            "  inflating: Data set/Train set/forest with fire/with fire (23).jpg  \n",
            "  inflating: Data set/Train set/forest with fire/with fire (9).jpg  \n",
            "  inflating: Data set/Train set/forest with fire/with fire (14).jpg  \n",
            "  inflating: Data set/Train set/forest with fire/with fire (29).jpg  \n",
            "  inflating: Data set/Train set/forest with fire/with fire (2).jpg  \n",
            "  inflating: Data set/Train set/forest with fire/with fire (8).jpg  \n",
            "  inflating: Data set/Train set/forest with fire/with fire (3).jpg  \n",
            "  inflating: Data set/Train set/forest with fire/wildfire_header_image_1024x1024.jpg  \n",
            "  inflating: Data set/Train set/forest with fire/with fire (18).jpg  \n",
            "  inflating: Data set/Train set/forest with fire/with fire (1).png  \n",
            "  inflating: Data set/Train set/forest with fire/with fire (4).jpg  \n",
            "  inflating: Data set/Train set/forest with fire/with fire (35).jpg  \n",
            "  inflating: Data set/Train set/forest with fire/with fire (6).jpg  \n",
            "  inflating: Data set/Train set/forest with fire/with fire (12).jpg  \n",
            "  inflating: Data set/Train set/forest with fire/with fire (10).jpg  \n",
            "  inflating: Data set/Train set/forest with fire/with fire.jpg  \n",
            "  inflating: Data set/Train set/forest with fire/Wild_fires.jpg  \n",
            "  inflating: Data set/Train set/forest with fire/X80IR0GYSsG6RaiLcsXX.jpg  \n"
          ]
        }
      ]
    },
    {
      "cell_type": "code",
      "source": [
        "train_datagen=ImageDataGenerator(rescale=1./255,shear_range=0.2,rotation_range=180,zoom_range=0.2,horizontal_flip=True)\n",
        "test_datagen=ImageDataGenerator(rescale=1./255)"
      ],
      "metadata": {
        "id": "MfqmoBcRqNJY"
      },
      "execution_count": 8,
      "outputs": []
    },
    {
      "cell_type": "code",
      "source": [
        "x_train = train_datagen.flow_from_directory(\n",
        "    r'/content/drive/MyDrive/Data set/Train set',\n",
        "    target_size=(435, 116),batch_size=5,color_mode='rgb',class_mode='sparse')"
      ],
      "metadata": {
        "colab": {
          "base_uri": "https://localhost:8080/"
        },
        "id": "j3NxuKuMqWXp",
        "outputId": "1672ef7e-c076-4c3a-eeb1-f2a84c02ec88"
      },
      "execution_count": 15,
      "outputs": [
        {
          "output_type": "stream",
          "name": "stdout",
          "text": [
            "Found 158 images belonging to 2 classes.\n"
          ]
        }
      ]
    },
    {
      "cell_type": "code",
      "source": [
        "x_test=test_datagen.flow_from_directory('/content/drive/MyDrive/Data set/Test set',target_size=(128,128),batch_size=32,class_mode='binary')"
      ],
      "metadata": {
        "colab": {
          "base_uri": "https://localhost:8080/"
        },
        "id": "99Pf1DGXtsfK",
        "outputId": "1376f323-1cc3-4439-b255-91806a35dd35"
      },
      "execution_count": 16,
      "outputs": [
        {
          "output_type": "stream",
          "name": "stdout",
          "text": [
            "Found 87 images belonging to 2 classes.\n"
          ]
        }
      ]
    },
    {
      "cell_type": "code",
      "source": [
        "print(x_train.class_indices)"
      ],
      "metadata": {
        "colab": {
          "base_uri": "https://localhost:8080/"
        },
        "id": "eW6McK7Rt-NM",
        "outputId": "70a8471e-e1fb-4252-fd58-43fc05853264"
      },
      "execution_count": 17,
      "outputs": [
        {
          "output_type": "stream",
          "name": "stdout",
          "text": [
            "{'forest with fire': 0, 'forest without fire': 1}\n"
          ]
        }
      ]
    },
    {
      "cell_type": "code",
      "source": [
        "print(x_test.class_indices)"
      ],
      "metadata": {
        "colab": {
          "base_uri": "https://localhost:8080/"
        },
        "id": "-VL_LRjAuCTb",
        "outputId": "fdcd5a93-5794-4ed5-a2be-c02838e72490"
      },
      "execution_count": 18,
      "outputs": [
        {
          "output_type": "stream",
          "name": "stdout",
          "text": [
            "{'Forest with fire': 0, 'forest without fire': 1}\n"
          ]
        }
      ]
    },
    {
      "cell_type": "code",
      "source": [
        "from collections import Counter as c\n",
        "c(x_train .labels)"
      ],
      "metadata": {
        "colab": {
          "base_uri": "https://localhost:8080/"
        },
        "id": "7_NeDbJDuHKe",
        "outputId": "b58f5184-6b0f-4b6f-a920-423ff31567f1"
      },
      "execution_count": 20,
      "outputs": [
        {
          "output_type": "execute_result",
          "data": {
            "text/plain": [
              "Counter({0: 129, 1: 29})"
            ]
          },
          "metadata": {},
          "execution_count": 20
        }
      ]
    }
  ]
}